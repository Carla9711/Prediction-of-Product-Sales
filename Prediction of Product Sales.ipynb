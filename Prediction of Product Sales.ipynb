{
  "nbformat": 4,
  "nbformat_minor": 0,
  "metadata": {
    "colab": {
      "provenance": [],
      "authorship_tag": "ABX9TyNzB2CchsmIZ0aT9Pk5Lx12",
      "include_colab_link": true
    },
    "kernelspec": {
      "name": "python3",
      "display_name": "Python 3"
    },
    "language_info": {
      "name": "python"
    }
  },
  "cells": [
    {
      "cell_type": "markdown",
      "metadata": {
        "id": "view-in-github",
        "colab_type": "text"
      },
      "source": [
        "<a href=\"https://colab.research.google.com/github/Carla9711/Prediction-of-Product-Sales/blob/main/Prediction%20of%20Product%20Sales.ipynb\" target=\"_parent\"><img src=\"https://colab.research.google.com/assets/colab-badge.svg\" alt=\"Open In Colab\"/></a>"
      ]
    },
    {
      "cell_type": "markdown",
      "source": [
        "#Prediction of Product Sales"
      ],
      "metadata": {
        "id": "JbgpR74kBBVu"
      }
    },
    {
      "cell_type": "markdown",
      "source": [
        "- Author: Carla Cloete"
      ],
      "metadata": {
        "id": "1LEQn0GxBNrh"
      }
    },
    {
      "cell_type": "markdown",
      "source": [
        "##Project Overview"
      ],
      "metadata": {
        "id": "3cUycHYXBSBB"
      }
    },
    {
      "cell_type": "markdown",
      "source": [
        "##Load and Inspect Data"
      ],
      "metadata": {
        "id": "I3ryQ8lPBaHy"
      }
    },
    {
      "cell_type": "code",
      "source": [],
      "metadata": {
        "id": "mWtkH3k1BgJK"
      },
      "execution_count": null,
      "outputs": []
    },
    {
      "cell_type": "markdown",
      "source": [
        "##Clean Data"
      ],
      "metadata": {
        "id": "XyoyEYTBBhKc"
      }
    },
    {
      "cell_type": "code",
      "source": [],
      "metadata": {
        "id": "oVU9BeazBizb"
      },
      "execution_count": null,
      "outputs": []
    },
    {
      "cell_type": "markdown",
      "source": [
        "##Exploratory Data Analysis"
      ],
      "metadata": {
        "id": "wDUd-RTkBje7"
      }
    },
    {
      "cell_type": "code",
      "source": [],
      "metadata": {
        "id": "RSoi4d-8BmQD"
      },
      "execution_count": null,
      "outputs": []
    },
    {
      "cell_type": "markdown",
      "source": [
        "##Feature Inspection"
      ],
      "metadata": {
        "id": "17-zmyZXBm3G"
      }
    },
    {
      "cell_type": "code",
      "source": [],
      "metadata": {
        "id": "hmk2C8PYBobi"
      },
      "execution_count": null,
      "outputs": []
    }
  ]
}